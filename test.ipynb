{
 "cells": [
  {
   "cell_type": "code",
   "execution_count": 1,
   "id": "0035de58",
   "metadata": {},
   "outputs": [],
   "source": [
    "# Import Splinter, BeautifulSoup, and Pandas\n",
    "from splinter import Browser\n",
    "from bs4 import BeautifulSoup as soup\n",
    "import pandas as pd\n",
    "from webdriver_manager.chrome import ChromeDriverManager"
   ]
  },
  {
   "cell_type": "code",
   "execution_count": 2,
   "id": "ec19da82",
   "metadata": {},
   "outputs": [
    {
     "name": "stdout",
     "output_type": "stream",
     "text": [
      "\n"
     ]
    },
    {
     "name": "stderr",
     "output_type": "stream",
     "text": [
      "[WDM] - ====== WebDriver manager ======\n",
      "INFO:WDM:====== WebDriver manager ======\n",
      "[WDM] - Current google-chrome version is 103.0.5060\n",
      "INFO:WDM:Current google-chrome version is 103.0.5060\n",
      "[WDM] - Get LATEST chromedriver version for 103.0.5060 google-chrome\n",
      "INFO:WDM:Get LATEST chromedriver version for 103.0.5060 google-chrome\n",
      "[WDM] - Driver [C:\\Users\\cewar\\.wdm\\drivers\\chromedriver\\win32\\103.0.5060.53\\chromedriver.exe] found in cache\n",
      "INFO:WDM:Driver [C:\\Users\\cewar\\.wdm\\drivers\\chromedriver\\win32\\103.0.5060.53\\chromedriver.exe] found in cache\n"
     ]
    }
   ],
   "source": [
    "# Set the executable path and initialize Splinter\n",
    "executable_path = {'executable_path': ChromeDriverManager().install()}\n",
    "browser = Browser('chrome', **executable_path, headless=False)"
   ]
  },
  {
   "cell_type": "code",
   "execution_count": 3,
   "id": "2dfe04de",
   "metadata": {},
   "outputs": [],
   "source": [
    "# 1. Use browser to visit the URL \n",
    "url = 'https://marshemispheres.com/'\n",
    "\n",
    "browser.visit(url)"
   ]
  },
  {
   "cell_type": "raw",
   "id": "1bc3d2fb",
   "metadata": {},
   "source": [
    "# 2. Create a list to hold the images and titles.\n",
    "hemisphere_image_urls = []\n",
    "\n",
    "# 3. Write code to retrieve the image urls and titles for each hemisphere.\n",
    "y = 0 # y = 0-3\n",
    "x = 3 # x = 3-6\n",
    "    \n",
    "# empty dictionary\n",
    "hemispheres = {}\n",
    "\n",
    "# retrieve the title for the hemisphere image\n",
    "title_html = browser.html\n",
    "title_html_soup = soup(title_html, 'html.parser')\n",
    "\n",
    "img_title = title_html_soup.find('h3')\n",
    "\n",
    "# hemispheres[img_title] = \n",
    "\n",
    "# retrieve the full-resolution image URL string\n",
    "# click on each hemisphere link (want [3-6])\n",
    "#hemisphere_link = browser.find_by_tag('img')[x]\n",
    "#hemisphere_link.click()\n",
    "#hemi_html = browser.html\n",
    "#hemi_img_soup = soup(hemi_html, 'html.parser')\n",
    "#hemi_img_url_rel = hemi_img_soup.find('img', class_='wide-image').get('src')\n",
    "#hemi_img_url = f'https://marshemispheres.com/{hemi_img_url_rel}'\n",
    "\n",
    "# hemispheres[img_url] = hemi_img_url\n",
    "\n",
    "# use browser.back() to navigate back to the beginning to get the next hemisphere\n",
    "# browser.back()\n",
    "\n",
    "#hemisphere_image_urls"
   ]
  },
  {
   "cell_type": "raw",
   "id": "b347a221",
   "metadata": {},
   "source": [
    "# browse multiple pages\n",
    "for x in range(3,6):\n",
    "    # empty dictionary\n",
    "    hemispheres = {}   \n",
    "    # click on each hemisphere link (want [3-6])\n",
    "    hemisphere_link = browser.find_by_tag('img')[x]\n",
    "    hemisphere_link.click()\n",
    "    \n",
    "    for quote in quotes:\n",
    "        print('page:', x, '----------')\n",
    "        print(quote.text)\n",
    "    # browser.back()"
   ]
  },
  {
   "cell_type": "code",
   "execution_count": null,
   "id": "17285246",
   "metadata": {},
   "outputs": [],
   "source": []
  }
 ],
 "metadata": {
  "kernelspec": {
   "display_name": "PythonData",
   "language": "python",
   "name": "pythondata"
  },
  "language_info": {
   "codemirror_mode": {
    "name": "ipython",
    "version": 3
   },
   "file_extension": ".py",
   "mimetype": "text/x-python",
   "name": "python",
   "nbconvert_exporter": "python",
   "pygments_lexer": "ipython3",
   "version": "3.7.11"
  }
 },
 "nbformat": 4,
 "nbformat_minor": 5
}
